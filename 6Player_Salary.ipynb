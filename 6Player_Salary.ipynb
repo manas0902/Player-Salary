{
  "nbformat": 4,
  "nbformat_minor": 0,
  "metadata": {
    "colab": {
      "name": "6Player Salary.ipynb",
      "provenance": []
    },
    "kernelspec": {
      "name": "python3",
      "display_name": "Python 3"
    },
    "language_info": {
      "name": "python"
    }
  },
  "cells": [
    {
      "cell_type": "code",
      "metadata": {
        "id": "4-wvVgUU15V5"
      },
      "source": [
        "import pandas as pd    \n",
        "import numpy as np\n",
        "import matplotlib.pyplot as plt\n",
        "from sklearn import model_selection\n",
        "from sklearn.linear_model import Ridge, RidgeCV, Lasso, LassoCV\n",
        "from sklearn.metrics import mean_squared_error      \n",
        "from sklearn.preprocessing import StandardScaler "
      ],
      "execution_count": null,
      "outputs": []
    },
    {
      "cell_type": "code",
      "metadata": {
        "id": "6X6bo0hT2hkV"
      },
      "source": [
        "pl = pd.read_csv(\"/content/Player.csv\",index_col=0)"
      ],
      "execution_count": null,
      "outputs": []
    },
    {
      "cell_type": "code",
      "metadata": {
        "colab": {
          "base_uri": "https://localhost:8080/",
          "height": 203
        },
        "id": "-QaKsnIe20nD",
        "outputId": "df7ee655-efe0-4005-a903-83677797e112"
      },
      "source": [
        "pl.head()"
      ],
      "execution_count": null,
      "outputs": [
        {
          "output_type": "execute_result",
          "data": {
            "text/html": [
              "<div>\n",
              "<style scoped>\n",
              "    .dataframe tbody tr th:only-of-type {\n",
              "        vertical-align: middle;\n",
              "    }\n",
              "\n",
              "    .dataframe tbody tr th {\n",
              "        vertical-align: top;\n",
              "    }\n",
              "\n",
              "    .dataframe thead th {\n",
              "        text-align: right;\n",
              "    }\n",
              "</style>\n",
              "<table border=\"1\" class=\"dataframe\">\n",
              "  <thead>\n",
              "    <tr style=\"text-align: right;\">\n",
              "      <th></th>\n",
              "      <th>AtBat</th>\n",
              "      <th>Hits</th>\n",
              "      <th>HmRun</th>\n",
              "      <th>Runs</th>\n",
              "      <th>RBI</th>\n",
              "      <th>Walks</th>\n",
              "      <th>Years</th>\n",
              "      <th>CAtBat</th>\n",
              "      <th>CHits</th>\n",
              "      <th>CHmRun</th>\n",
              "      <th>CRuns</th>\n",
              "      <th>CRBI</th>\n",
              "      <th>CWalks</th>\n",
              "      <th>League</th>\n",
              "      <th>Division</th>\n",
              "      <th>PutOuts</th>\n",
              "      <th>Assists</th>\n",
              "      <th>Errors</th>\n",
              "      <th>Salary</th>\n",
              "      <th>NewLeague</th>\n",
              "    </tr>\n",
              "  </thead>\n",
              "  <tbody>\n",
              "    <tr>\n",
              "      <th>-Andy Allanson</th>\n",
              "      <td>293</td>\n",
              "      <td>66</td>\n",
              "      <td>1</td>\n",
              "      <td>30</td>\n",
              "      <td>29</td>\n",
              "      <td>14</td>\n",
              "      <td>1</td>\n",
              "      <td>293</td>\n",
              "      <td>66</td>\n",
              "      <td>1</td>\n",
              "      <td>30</td>\n",
              "      <td>29</td>\n",
              "      <td>14</td>\n",
              "      <td>A</td>\n",
              "      <td>E</td>\n",
              "      <td>446</td>\n",
              "      <td>33</td>\n",
              "      <td>20</td>\n",
              "      <td>NaN</td>\n",
              "      <td>A</td>\n",
              "    </tr>\n",
              "    <tr>\n",
              "      <th>-Alan Ashby</th>\n",
              "      <td>315</td>\n",
              "      <td>81</td>\n",
              "      <td>7</td>\n",
              "      <td>24</td>\n",
              "      <td>38</td>\n",
              "      <td>39</td>\n",
              "      <td>14</td>\n",
              "      <td>3449</td>\n",
              "      <td>835</td>\n",
              "      <td>69</td>\n",
              "      <td>321</td>\n",
              "      <td>414</td>\n",
              "      <td>375</td>\n",
              "      <td>N</td>\n",
              "      <td>W</td>\n",
              "      <td>632</td>\n",
              "      <td>43</td>\n",
              "      <td>10</td>\n",
              "      <td>475.0</td>\n",
              "      <td>N</td>\n",
              "    </tr>\n",
              "    <tr>\n",
              "      <th>-Alvin Davis</th>\n",
              "      <td>479</td>\n",
              "      <td>130</td>\n",
              "      <td>18</td>\n",
              "      <td>66</td>\n",
              "      <td>72</td>\n",
              "      <td>76</td>\n",
              "      <td>3</td>\n",
              "      <td>1624</td>\n",
              "      <td>457</td>\n",
              "      <td>63</td>\n",
              "      <td>224</td>\n",
              "      <td>266</td>\n",
              "      <td>263</td>\n",
              "      <td>A</td>\n",
              "      <td>W</td>\n",
              "      <td>880</td>\n",
              "      <td>82</td>\n",
              "      <td>14</td>\n",
              "      <td>480.0</td>\n",
              "      <td>A</td>\n",
              "    </tr>\n",
              "    <tr>\n",
              "      <th>-Andre Dawson</th>\n",
              "      <td>496</td>\n",
              "      <td>141</td>\n",
              "      <td>20</td>\n",
              "      <td>65</td>\n",
              "      <td>78</td>\n",
              "      <td>37</td>\n",
              "      <td>11</td>\n",
              "      <td>5628</td>\n",
              "      <td>1575</td>\n",
              "      <td>225</td>\n",
              "      <td>828</td>\n",
              "      <td>838</td>\n",
              "      <td>354</td>\n",
              "      <td>N</td>\n",
              "      <td>E</td>\n",
              "      <td>200</td>\n",
              "      <td>11</td>\n",
              "      <td>3</td>\n",
              "      <td>500.0</td>\n",
              "      <td>N</td>\n",
              "    </tr>\n",
              "    <tr>\n",
              "      <th>-Andres Galarraga</th>\n",
              "      <td>321</td>\n",
              "      <td>87</td>\n",
              "      <td>10</td>\n",
              "      <td>39</td>\n",
              "      <td>42</td>\n",
              "      <td>30</td>\n",
              "      <td>2</td>\n",
              "      <td>396</td>\n",
              "      <td>101</td>\n",
              "      <td>12</td>\n",
              "      <td>48</td>\n",
              "      <td>46</td>\n",
              "      <td>33</td>\n",
              "      <td>N</td>\n",
              "      <td>E</td>\n",
              "      <td>805</td>\n",
              "      <td>40</td>\n",
              "      <td>4</td>\n",
              "      <td>91.5</td>\n",
              "      <td>N</td>\n",
              "    </tr>\n",
              "  </tbody>\n",
              "</table>\n",
              "</div>"
            ],
            "text/plain": [
              "                   AtBat  Hits  HmRun  Runs  ...  Assists  Errors  Salary  NewLeague\n",
              "-Andy Allanson       293    66      1    30  ...       33      20     NaN          A\n",
              "-Alan Ashby          315    81      7    24  ...       43      10   475.0          N\n",
              "-Alvin Davis         479   130     18    66  ...       82      14   480.0          A\n",
              "-Andre Dawson        496   141     20    65  ...       11       3   500.0          N\n",
              "-Andres Galarraga    321    87     10    39  ...       40       4    91.5          N\n",
              "\n",
              "[5 rows x 20 columns]"
            ]
          },
          "metadata": {
            "tags": []
          },
          "execution_count": 5
        }
      ]
    },
    {
      "cell_type": "code",
      "metadata": {
        "colab": {
          "base_uri": "https://localhost:8080/"
        },
        "id": "1xjZoa2l22l2",
        "outputId": "a927a2aa-1898-4eab-bf65-39435bd2cf14"
      },
      "source": [
        "pl.shape"
      ],
      "execution_count": null,
      "outputs": [
        {
          "output_type": "execute_result",
          "data": {
            "text/plain": [
              "(322, 20)"
            ]
          },
          "metadata": {
            "tags": []
          },
          "execution_count": 6
        }
      ]
    },
    {
      "cell_type": "code",
      "metadata": {
        "colab": {
          "base_uri": "https://localhost:8080/"
        },
        "id": "giEkXHKm470O",
        "outputId": "34888992-2331-42ec-d180-0af48486cacc"
      },
      "source": [
        "pl.info()"
      ],
      "execution_count": null,
      "outputs": [
        {
          "output_type": "stream",
          "text": [
            "<class 'pandas.core.frame.DataFrame'>\n",
            "Index: 322 entries, -Andy Allanson to -Willie Wilson\n",
            "Data columns (total 20 columns):\n",
            " #   Column     Non-Null Count  Dtype  \n",
            "---  ------     --------------  -----  \n",
            " 0   AtBat      322 non-null    int64  \n",
            " 1   Hits       322 non-null    int64  \n",
            " 2   HmRun      322 non-null    int64  \n",
            " 3   Runs       322 non-null    int64  \n",
            " 4   RBI        322 non-null    int64  \n",
            " 5   Walks      322 non-null    int64  \n",
            " 6   Years      322 non-null    int64  \n",
            " 7   CAtBat     322 non-null    int64  \n",
            " 8   CHits      322 non-null    int64  \n",
            " 9   CHmRun     322 non-null    int64  \n",
            " 10  CRuns      322 non-null    int64  \n",
            " 11  CRBI       322 non-null    int64  \n",
            " 12  CWalks     322 non-null    int64  \n",
            " 13  League     322 non-null    object \n",
            " 14  Division   322 non-null    object \n",
            " 15  PutOuts    322 non-null    int64  \n",
            " 16  Assists    322 non-null    int64  \n",
            " 17  Errors     322 non-null    int64  \n",
            " 18  Salary     263 non-null    float64\n",
            " 19  NewLeague  322 non-null    object \n",
            "dtypes: float64(1), int64(16), object(3)\n",
            "memory usage: 52.8+ KB\n"
          ],
          "name": "stdout"
        }
      ]
    },
    {
      "cell_type": "code",
      "metadata": {
        "colab": {
          "base_uri": "https://localhost:8080/"
        },
        "id": "OcUiwo4I5L19",
        "outputId": "5ee38122-4218-412e-bbc4-7db6154b9653"
      },
      "source": [
        "pl.isnull().sum()"
      ],
      "execution_count": null,
      "outputs": [
        {
          "output_type": "execute_result",
          "data": {
            "text/plain": [
              "AtBat         0\n",
              "Hits          0\n",
              "HmRun         0\n",
              "Runs          0\n",
              "RBI           0\n",
              "Walks         0\n",
              "Years         0\n",
              "CAtBat        0\n",
              "CHits         0\n",
              "CHmRun        0\n",
              "CRuns         0\n",
              "CRBI          0\n",
              "CWalks        0\n",
              "League        0\n",
              "Division      0\n",
              "PutOuts       0\n",
              "Assists       0\n",
              "Errors        0\n",
              "Salary       59\n",
              "NewLeague     0\n",
              "dtype: int64"
            ]
          },
          "metadata": {
            "tags": []
          },
          "execution_count": 8
        }
      ]
    },
    {
      "cell_type": "code",
      "metadata": {
        "colab": {
          "base_uri": "https://localhost:8080/"
        },
        "id": "5NJMlaCQ5ckV",
        "outputId": "799a151c-6230-4d1c-d7d9-b7515c8450d2"
      },
      "source": [
        "#drop null values\n",
        "pl.dropna(inplace = True)\n",
        "pl.shape"
      ],
      "execution_count": null,
      "outputs": [
        {
          "output_type": "execute_result",
          "data": {
            "text/plain": [
              "(263, 20)"
            ]
          },
          "metadata": {
            "tags": []
          },
          "execution_count": 9
        }
      ]
    },
    {
      "cell_type": "code",
      "metadata": {
        "id": "_hbXq_jT6QVN"
      },
      "source": [
        "#statistical analysis\n",
        "pd.set_option('precision',2)"
      ],
      "execution_count": null,
      "outputs": []
    },
    {
      "cell_type": "code",
      "metadata": {
        "colab": {
          "base_uri": "https://localhost:8080/",
          "height": 295
        },
        "id": "jCo06FRb7B3W",
        "outputId": "d549b190-9b0f-4725-f3d5-fddb0d05577d"
      },
      "source": [
        "pl.describe()"
      ],
      "execution_count": null,
      "outputs": [
        {
          "output_type": "execute_result",
          "data": {
            "text/html": [
              "<div>\n",
              "<style scoped>\n",
              "    .dataframe tbody tr th:only-of-type {\n",
              "        vertical-align: middle;\n",
              "    }\n",
              "\n",
              "    .dataframe tbody tr th {\n",
              "        vertical-align: top;\n",
              "    }\n",
              "\n",
              "    .dataframe thead th {\n",
              "        text-align: right;\n",
              "    }\n",
              "</style>\n",
              "<table border=\"1\" class=\"dataframe\">\n",
              "  <thead>\n",
              "    <tr style=\"text-align: right;\">\n",
              "      <th></th>\n",
              "      <th>AtBat</th>\n",
              "      <th>Hits</th>\n",
              "      <th>HmRun</th>\n",
              "      <th>Runs</th>\n",
              "      <th>RBI</th>\n",
              "      <th>Walks</th>\n",
              "      <th>Years</th>\n",
              "      <th>CAtBat</th>\n",
              "      <th>CHits</th>\n",
              "      <th>CHmRun</th>\n",
              "      <th>CRuns</th>\n",
              "      <th>CRBI</th>\n",
              "      <th>CWalks</th>\n",
              "      <th>PutOuts</th>\n",
              "      <th>Assists</th>\n",
              "      <th>Errors</th>\n",
              "      <th>Salary</th>\n",
              "    </tr>\n",
              "  </thead>\n",
              "  <tbody>\n",
              "    <tr>\n",
              "      <th>count</th>\n",
              "      <td>263.00</td>\n",
              "      <td>263.00</td>\n",
              "      <td>263.00</td>\n",
              "      <td>263.00</td>\n",
              "      <td>263.00</td>\n",
              "      <td>263.00</td>\n",
              "      <td>263.00</td>\n",
              "      <td>263.00</td>\n",
              "      <td>263.00</td>\n",
              "      <td>263.00</td>\n",
              "      <td>263.00</td>\n",
              "      <td>263.00</td>\n",
              "      <td>263.00</td>\n",
              "      <td>263.00</td>\n",
              "      <td>263.00</td>\n",
              "      <td>263.00</td>\n",
              "      <td>263.00</td>\n",
              "    </tr>\n",
              "    <tr>\n",
              "      <th>mean</th>\n",
              "      <td>403.64</td>\n",
              "      <td>107.83</td>\n",
              "      <td>11.62</td>\n",
              "      <td>54.75</td>\n",
              "      <td>51.49</td>\n",
              "      <td>41.11</td>\n",
              "      <td>7.31</td>\n",
              "      <td>2657.54</td>\n",
              "      <td>722.19</td>\n",
              "      <td>69.24</td>\n",
              "      <td>361.22</td>\n",
              "      <td>330.42</td>\n",
              "      <td>260.27</td>\n",
              "      <td>290.71</td>\n",
              "      <td>118.76</td>\n",
              "      <td>8.59</td>\n",
              "      <td>535.93</td>\n",
              "    </tr>\n",
              "    <tr>\n",
              "      <th>std</th>\n",
              "      <td>147.31</td>\n",
              "      <td>45.13</td>\n",
              "      <td>8.76</td>\n",
              "      <td>25.54</td>\n",
              "      <td>25.88</td>\n",
              "      <td>21.72</td>\n",
              "      <td>4.79</td>\n",
              "      <td>2286.58</td>\n",
              "      <td>648.20</td>\n",
              "      <td>82.20</td>\n",
              "      <td>331.20</td>\n",
              "      <td>323.37</td>\n",
              "      <td>264.06</td>\n",
              "      <td>279.93</td>\n",
              "      <td>145.08</td>\n",
              "      <td>6.61</td>\n",
              "      <td>451.12</td>\n",
              "    </tr>\n",
              "    <tr>\n",
              "      <th>min</th>\n",
              "      <td>19.00</td>\n",
              "      <td>1.00</td>\n",
              "      <td>0.00</td>\n",
              "      <td>0.00</td>\n",
              "      <td>0.00</td>\n",
              "      <td>0.00</td>\n",
              "      <td>1.00</td>\n",
              "      <td>19.00</td>\n",
              "      <td>4.00</td>\n",
              "      <td>0.00</td>\n",
              "      <td>2.00</td>\n",
              "      <td>3.00</td>\n",
              "      <td>1.00</td>\n",
              "      <td>0.00</td>\n",
              "      <td>0.00</td>\n",
              "      <td>0.00</td>\n",
              "      <td>67.50</td>\n",
              "    </tr>\n",
              "    <tr>\n",
              "      <th>25%</th>\n",
              "      <td>282.50</td>\n",
              "      <td>71.50</td>\n",
              "      <td>5.00</td>\n",
              "      <td>33.50</td>\n",
              "      <td>30.00</td>\n",
              "      <td>23.00</td>\n",
              "      <td>4.00</td>\n",
              "      <td>842.50</td>\n",
              "      <td>212.00</td>\n",
              "      <td>15.00</td>\n",
              "      <td>105.50</td>\n",
              "      <td>95.00</td>\n",
              "      <td>71.00</td>\n",
              "      <td>113.50</td>\n",
              "      <td>8.00</td>\n",
              "      <td>3.00</td>\n",
              "      <td>190.00</td>\n",
              "    </tr>\n",
              "    <tr>\n",
              "      <th>50%</th>\n",
              "      <td>413.00</td>\n",
              "      <td>103.00</td>\n",
              "      <td>9.00</td>\n",
              "      <td>52.00</td>\n",
              "      <td>47.00</td>\n",
              "      <td>37.00</td>\n",
              "      <td>6.00</td>\n",
              "      <td>1931.00</td>\n",
              "      <td>516.00</td>\n",
              "      <td>40.00</td>\n",
              "      <td>250.00</td>\n",
              "      <td>230.00</td>\n",
              "      <td>174.00</td>\n",
              "      <td>224.00</td>\n",
              "      <td>45.00</td>\n",
              "      <td>7.00</td>\n",
              "      <td>425.00</td>\n",
              "    </tr>\n",
              "    <tr>\n",
              "      <th>75%</th>\n",
              "      <td>526.00</td>\n",
              "      <td>141.50</td>\n",
              "      <td>18.00</td>\n",
              "      <td>73.00</td>\n",
              "      <td>71.00</td>\n",
              "      <td>57.00</td>\n",
              "      <td>10.00</td>\n",
              "      <td>3890.50</td>\n",
              "      <td>1054.00</td>\n",
              "      <td>92.50</td>\n",
              "      <td>497.50</td>\n",
              "      <td>424.50</td>\n",
              "      <td>328.50</td>\n",
              "      <td>322.50</td>\n",
              "      <td>192.00</td>\n",
              "      <td>13.00</td>\n",
              "      <td>750.00</td>\n",
              "    </tr>\n",
              "    <tr>\n",
              "      <th>max</th>\n",
              "      <td>687.00</td>\n",
              "      <td>238.00</td>\n",
              "      <td>40.00</td>\n",
              "      <td>130.00</td>\n",
              "      <td>121.00</td>\n",
              "      <td>105.00</td>\n",
              "      <td>24.00</td>\n",
              "      <td>14053.00</td>\n",
              "      <td>4256.00</td>\n",
              "      <td>548.00</td>\n",
              "      <td>2165.00</td>\n",
              "      <td>1659.00</td>\n",
              "      <td>1566.00</td>\n",
              "      <td>1377.00</td>\n",
              "      <td>492.00</td>\n",
              "      <td>32.00</td>\n",
              "      <td>2460.00</td>\n",
              "    </tr>\n",
              "  </tbody>\n",
              "</table>\n",
              "</div>"
            ],
            "text/plain": [
              "        AtBat    Hits   HmRun    Runs  ...  PutOuts  Assists  Errors   Salary\n",
              "count  263.00  263.00  263.00  263.00  ...   263.00   263.00  263.00   263.00\n",
              "mean   403.64  107.83   11.62   54.75  ...   290.71   118.76    8.59   535.93\n",
              "std    147.31   45.13    8.76   25.54  ...   279.93   145.08    6.61   451.12\n",
              "min     19.00    1.00    0.00    0.00  ...     0.00     0.00    0.00    67.50\n",
              "25%    282.50   71.50    5.00   33.50  ...   113.50     8.00    3.00   190.00\n",
              "50%    413.00  103.00    9.00   52.00  ...   224.00    45.00    7.00   425.00\n",
              "75%    526.00  141.50   18.00   73.00  ...   322.50   192.00   13.00   750.00\n",
              "max    687.00  238.00   40.00  130.00  ...  1377.00   492.00   32.00  2460.00\n",
              "\n",
              "[8 rows x 17 columns]"
            ]
          },
          "metadata": {
            "tags": []
          },
          "execution_count": 11
        }
      ]
    },
    {
      "cell_type": "code",
      "metadata": {
        "colab": {
          "base_uri": "https://localhost:8080/"
        },
        "id": "Qf4RKLr97KTG",
        "outputId": "4525d5bc-7c46-4e5a-9759-b0d1adcd3c55"
      },
      "source": [
        "#categorical varibale annlysis\n",
        "pl.League.value_counts()"
      ],
      "execution_count": null,
      "outputs": [
        {
          "output_type": "execute_result",
          "data": {
            "text/plain": [
              "A    139\n",
              "N    124\n",
              "Name: League, dtype: int64"
            ]
          },
          "metadata": {
            "tags": []
          },
          "execution_count": 12
        }
      ]
    },
    {
      "cell_type": "code",
      "metadata": {
        "colab": {
          "base_uri": "https://localhost:8080/"
        },
        "id": "veyhupwB8Kfl",
        "outputId": "e105a9fa-7077-470d-f9c3-3eb1f2b7c9f3"
      },
      "source": [
        "pl.Division.value_counts()"
      ],
      "execution_count": null,
      "outputs": [
        {
          "output_type": "execute_result",
          "data": {
            "text/plain": [
              "W    134\n",
              "E    129\n",
              "Name: Division, dtype: int64"
            ]
          },
          "metadata": {
            "tags": []
          },
          "execution_count": 13
        }
      ]
    },
    {
      "cell_type": "code",
      "metadata": {
        "colab": {
          "base_uri": "https://localhost:8080/"
        },
        "id": "JJZCYq3e8YgQ",
        "outputId": "9604fd5d-b279-4de1-af25-6ad82fff0b00"
      },
      "source": [
        "pl.NewLeague.value_counts()"
      ],
      "execution_count": null,
      "outputs": [
        {
          "output_type": "execute_result",
          "data": {
            "text/plain": [
              "A    141\n",
              "N    122\n",
              "Name: NewLeague, dtype: int64"
            ]
          },
          "metadata": {
            "tags": []
          },
          "execution_count": 14
        }
      ]
    },
    {
      "cell_type": "code",
      "metadata": {
        "colab": {
          "base_uri": "https://localhost:8080/",
          "height": 142
        },
        "id": "Wg3DfRRW8dIg",
        "outputId": "87f27422-4de3-4673-a542-fd53f5adc706"
      },
      "source": [
        "#encode categorical variables\n",
        "dummyCol = pd.get_dummies(pl[['League','Division','NewLeague']])\n",
        "dummyCol.head(3)"
      ],
      "execution_count": null,
      "outputs": [
        {
          "output_type": "execute_result",
          "data": {
            "text/html": [
              "<div>\n",
              "<style scoped>\n",
              "    .dataframe tbody tr th:only-of-type {\n",
              "        vertical-align: middle;\n",
              "    }\n",
              "\n",
              "    .dataframe tbody tr th {\n",
              "        vertical-align: top;\n",
              "    }\n",
              "\n",
              "    .dataframe thead th {\n",
              "        text-align: right;\n",
              "    }\n",
              "</style>\n",
              "<table border=\"1\" class=\"dataframe\">\n",
              "  <thead>\n",
              "    <tr style=\"text-align: right;\">\n",
              "      <th></th>\n",
              "      <th>League_A</th>\n",
              "      <th>League_N</th>\n",
              "      <th>Division_E</th>\n",
              "      <th>Division_W</th>\n",
              "      <th>NewLeague_A</th>\n",
              "      <th>NewLeague_N</th>\n",
              "    </tr>\n",
              "  </thead>\n",
              "  <tbody>\n",
              "    <tr>\n",
              "      <th>-Alan Ashby</th>\n",
              "      <td>0</td>\n",
              "      <td>1</td>\n",
              "      <td>0</td>\n",
              "      <td>1</td>\n",
              "      <td>0</td>\n",
              "      <td>1</td>\n",
              "    </tr>\n",
              "    <tr>\n",
              "      <th>-Alvin Davis</th>\n",
              "      <td>1</td>\n",
              "      <td>0</td>\n",
              "      <td>0</td>\n",
              "      <td>1</td>\n",
              "      <td>1</td>\n",
              "      <td>0</td>\n",
              "    </tr>\n",
              "    <tr>\n",
              "      <th>-Andre Dawson</th>\n",
              "      <td>0</td>\n",
              "      <td>1</td>\n",
              "      <td>1</td>\n",
              "      <td>0</td>\n",
              "      <td>0</td>\n",
              "      <td>1</td>\n",
              "    </tr>\n",
              "  </tbody>\n",
              "</table>\n",
              "</div>"
            ],
            "text/plain": [
              "               League_A  League_N  ...  NewLeague_A  NewLeague_N\n",
              "-Alan Ashby           0         1  ...            0            1\n",
              "-Alvin Davis          1         0  ...            1            0\n",
              "-Andre Dawson         0         1  ...            0            1\n",
              "\n",
              "[3 rows x 6 columns]"
            ]
          },
          "metadata": {
            "tags": []
          },
          "execution_count": 15
        }
      ]
    },
    {
      "cell_type": "code",
      "metadata": {
        "colab": {
          "base_uri": "https://localhost:8080/"
        },
        "id": "17WWbLQt9jcV",
        "outputId": "bccf847d-dbba-4064-d987-bfed1ed0b74e"
      },
      "source": [
        "dummyCol.info()"
      ],
      "execution_count": null,
      "outputs": [
        {
          "output_type": "stream",
          "text": [
            "<class 'pandas.core.frame.DataFrame'>\n",
            "Index: 263 entries, -Alan Ashby to -Willie Wilson\n",
            "Data columns (total 6 columns):\n",
            " #   Column       Non-Null Count  Dtype\n",
            "---  ------       --------------  -----\n",
            " 0   League_A     263 non-null    uint8\n",
            " 1   League_N     263 non-null    uint8\n",
            " 2   Division_E   263 non-null    uint8\n",
            " 3   Division_W   263 non-null    uint8\n",
            " 4   NewLeague_A  263 non-null    uint8\n",
            " 5   NewLeague_N  263 non-null    uint8\n",
            "dtypes: uint8(6)\n",
            "memory usage: 3.6+ KB\n"
          ],
          "name": "stdout"
        }
      ]
    },
    {
      "cell_type": "code",
      "metadata": {
        "colab": {
          "base_uri": "https://localhost:8080/"
        },
        "id": "RCXIplKH-R5N",
        "outputId": "f5708ca6-5f14-40fb-f380-2924e34bbb5f"
      },
      "source": [
        "#prepaer input variable x\n",
        "XTemp = pl.drop(['Salary', 'League', 'Division', 'NewLeague'], axis=1)\n",
        "X = pd.concat([XTemp, dummyCol[['League_N', 'Division_W', 'NewLeague_N']]], axis=1)\n",
        "X.info()"
      ],
      "execution_count": null,
      "outputs": [
        {
          "output_type": "stream",
          "text": [
            "<class 'pandas.core.frame.DataFrame'>\n",
            "Index: 263 entries, -Alan Ashby to -Willie Wilson\n",
            "Data columns (total 19 columns):\n",
            " #   Column       Non-Null Count  Dtype\n",
            "---  ------       --------------  -----\n",
            " 0   AtBat        263 non-null    int64\n",
            " 1   Hits         263 non-null    int64\n",
            " 2   HmRun        263 non-null    int64\n",
            " 3   Runs         263 non-null    int64\n",
            " 4   RBI          263 non-null    int64\n",
            " 5   Walks        263 non-null    int64\n",
            " 6   Years        263 non-null    int64\n",
            " 7   CAtBat       263 non-null    int64\n",
            " 8   CHits        263 non-null    int64\n",
            " 9   CHmRun       263 non-null    int64\n",
            " 10  CRuns        263 non-null    int64\n",
            " 11  CRBI         263 non-null    int64\n",
            " 12  CWalks       263 non-null    int64\n",
            " 13  PutOuts      263 non-null    int64\n",
            " 14  Assists      263 non-null    int64\n",
            " 15  Errors       263 non-null    int64\n",
            " 16  League_N     263 non-null    uint8\n",
            " 17  Division_W   263 non-null    uint8\n",
            " 18  NewLeague_N  263 non-null    uint8\n",
            "dtypes: int64(16), uint8(3)\n",
            "memory usage: 35.7+ KB\n"
          ],
          "name": "stdout"
        }
      ]
    },
    {
      "cell_type": "code",
      "metadata": {
        "colab": {
          "base_uri": "https://localhost:8080/"
        },
        "id": "58KZfIOlB5mR",
        "outputId": "3c45f114-1dd6-45fe-ec71-8d01cdefa7c8"
      },
      "source": [
        "#output variable\n",
        "y = pl.Salary\n",
        "y.head()"
      ],
      "execution_count": null,
      "outputs": [
        {
          "output_type": "execute_result",
          "data": {
            "text/plain": [
              "-Alan Ashby          475.0\n",
              "-Alvin Davis         480.0\n",
              "-Andre Dawson        500.0\n",
              "-Andres Galarraga     91.5\n",
              "-Alfredo Griffin     750.0\n",
              "Name: Salary, dtype: float64"
            ]
          },
          "metadata": {
            "tags": []
          },
          "execution_count": 18
        }
      ]
    },
    {
      "cell_type": "code",
      "metadata": {
        "id": "zaFj0L-LCjtm"
      },
      "source": [
        "#ridge regression\n",
        "alphas = 10**np.linspace(10,-2,100)*0.00001\n",
        "ridge = Ridge()    \n",
        "coeffs = []"
      ],
      "execution_count": null,
      "outputs": []
    },
    {
      "cell_type": "code",
      "metadata": {
        "id": "GmZWri_ID76X"
      },
      "source": [
        "scaler = StandardScaler()\n",
        "for a in alphas:\n",
        "  ridge.set_params(alpha= a)\n",
        "  ridge.fit(scaler.fit_transform(X),y)\n",
        "  coeffs.append(ridge.coef_)"
      ],
      "execution_count": null,
      "outputs": []
    },
    {
      "cell_type": "code",
      "metadata": {
        "colab": {
          "base_uri": "https://localhost:8080/"
        },
        "id": "yRiW3tqDJ1hL",
        "outputId": "1ceff016-9ad7-4ceb-837c-f7200f79a4eb"
      },
      "source": [
        "np.shape(coeffs)"
      ],
      "execution_count": null,
      "outputs": [
        {
          "output_type": "execute_result",
          "data": {
            "text/plain": [
              "(100, 19)"
            ]
          },
          "metadata": {
            "tags": []
          },
          "execution_count": 21
        }
      ]
    },
    {
      "cell_type": "code",
      "metadata": {
        "colab": {
          "base_uri": "https://localhost:8080/",
          "height": 299
        },
        "id": "hZmy1GqWFOHh",
        "outputId": "8dd0b440-e5c6-4592-aaca-f5a5d1cd6c28"
      },
      "source": [
        "ax = plt.gca() \n",
        "ax.plot(alphas, coeffs) \n",
        "ax.set_xscale('log') \n",
        "plt.axis('tight') \n",
        "plt.xlabel('Lambda') \n",
        "plt.ylabel('Coefficients') \n",
        "plt.title('Ridge coefficients as a function of lambda(alpha)')\n",
        "plt.show()"
      ],
      "execution_count": null,
      "outputs": [
        {
          "output_type": "display_data",
          "data": {
            "image/png": "[encoded data removed]",
            "text/plain": [
              "<Figure size 432x288 with 1 Axes>"
            ]
          },
          "metadata": {
            "tags": [],
            "needs_background": "light"
          }
        }
      ]
    },
    {
      "cell_type": "code",
      "metadata": {
        "id": "VQ_YxlnAF5rT"
      },
      "source": [
        "pd.set_option(\"precision\", 6)  \n",
        "X_train, X_test , y_train, y_test = model_selection.train_test_split(X,y, test_size=0.5, random_state=1) \n",
        "def Ridge_Regression(alpha): \n",
        " scaler = StandardScaler() \n",
        " ridge = Ridge(alpha=alpha) \n",
        " ridge.fit(scaler.fit_transform(X_train), y_train) \n",
        " pred = ridge.predict(scaler.fit_transform(X_test)) \n",
        " print(pd.Series(ridge.coef_, index=X.columns)) \n",
        " print('Mean Squared Error: ',mean_squared_error(y_test, pred)) "
      ],
      "execution_count": null,
      "outputs": []
    },
    {
      "cell_type": "code",
      "metadata": {
        "colab": {
          "base_uri": "https://localhost:8080/"
        },
        "id": "MZhNVIoWM6Pv",
        "outputId": "65160a58-46f3-4019-89a9-6518773868dc"
      },
      "source": [
        "Ridge_Regression(0)"
      ],
      "execution_count": null,
      "outputs": [
        {
          "output_type": "stream",
          "text": [
            "AtBat          -266.553048\n",
            "Hits            197.706218\n",
            "HmRun           -38.103182\n",
            "Runs             -1.007996\n",
            "RBI             103.119845\n",
            "Walks            79.750209\n",
            "Years            45.357697\n",
            "CAtBat        -1399.811384\n",
            "CHits          1426.954812\n",
            "CHmRun          264.037977\n",
            "CRuns            86.858781\n",
            "CRBI           -211.142393\n",
            "CWalks           42.533597\n",
            "PutOuts         126.075563\n",
            "Assists          65.816094\n",
            "Errors          -38.313885\n",
            "League_N         66.822855\n",
            "Division_W      -56.870280\n",
            "NewLeague_N     -40.962688\n",
            "dtype: float64\n",
            "Mean Squared Error:  117301.05503374552\n"
          ],
          "name": "stdout"
        }
      ]
    },
    {
      "cell_type": "code",
      "metadata": {
        "colab": {
          "base_uri": "https://localhost:8080/"
        },
        "id": "kODVl69JY0Jv",
        "outputId": "9964de97-0f4b-4309-d1ff-2db341e32411"
      },
      "source": [
        "Ridge_Regression(4)"
      ],
      "execution_count": null,
      "outputs": [
        {
          "output_type": "stream",
          "text": [
            "AtBat         -210.807322\n",
            "Hits           193.076932\n",
            "HmRun          -51.437368\n",
            "Runs             1.624070\n",
            "RBI             81.458917\n",
            "Walks           94.582539\n",
            "Years          -28.029476\n",
            "CAtBat        -117.924364\n",
            "CHits           91.159632\n",
            "CHmRun          91.762010\n",
            "CRuns          101.115450\n",
            "CRBI           117.598963\n",
            "CWalks         -38.434685\n",
            "PutOuts        125.556071\n",
            "Assists         25.559188\n",
            "Errors         -18.518904\n",
            "League_N        35.792050\n",
            "Division_W     -60.245442\n",
            "NewLeague_N    -18.650623\n",
            "dtype: float64\n",
            "Mean Squared Error:  104835.06228323368\n"
          ],
          "name": "stdout"
        }
      ]
    },
    {
      "cell_type": "code",
      "metadata": {
        "colab": {
          "base_uri": "https://localhost:8080/"
        },
        "id": "Wv35LQ6sY5Ei",
        "outputId": "c33ef859-9bfb-4d4f-f9ff-5fa27246825b"
      },
      "source": [
        "Ridge_Regression(100)"
      ],
      "execution_count": null,
      "outputs": [
        {
          "output_type": "stream",
          "text": [
            "AtBat           3.911359\n",
            "Hits           36.096360\n",
            "HmRun           1.736680\n",
            "Runs           19.611659\n",
            "RBI            32.219132\n",
            "Walks          43.972410\n",
            "Years           8.496447\n",
            "CAtBat         17.992839\n",
            "CHits          32.545056\n",
            "CHmRun         41.512925\n",
            "CRuns          33.271936\n",
            "CRBI           41.571334\n",
            "CWalks         25.535833\n",
            "PutOuts        75.761366\n",
            "Assists        -2.475953\n",
            "Errors         -0.792667\n",
            "League_N        8.214298\n",
            "Division_W    -41.608368\n",
            "NewLeague_N     5.211955\n",
            "dtype: float64\n",
            "Mean Squared Error:  100357.25470322548\n"
          ],
          "name": "stdout"
        }
      ]
    },
    {
      "cell_type": "code",
      "metadata": {
        "colab": {
          "base_uri": "https://localhost:8080/"
        },
        "id": "EX56nFWeY8oF",
        "outputId": "5e478796-8bd7-4d2c-c0cd-7a0069053831"
      },
      "source": [
        "Ridge_Regression(10**10)"
      ],
      "execution_count": null,
      "outputs": [
        {
          "output_type": "stream",
          "text": [
            "AtBat          2.526133e-06\n",
            "Hits           2.826091e-06\n",
            "HmRun          2.174902e-06\n",
            "Runs           2.632138e-06\n",
            "RBI            3.183658e-06\n",
            "Walks          2.941154e-06\n",
            "Years          2.478179e-06\n",
            "CAtBat         3.213788e-06\n",
            "CHits          3.432349e-06\n",
            "CHmRun         3.435819e-06\n",
            "CRuns          3.522298e-06\n",
            "CRBI           3.602930e-06\n",
            "CWalks         3.216811e-06\n",
            "PutOuts        2.851209e-06\n",
            "Assists       -4.856786e-08\n",
            "Errors         1.736624e-07\n",
            "League_N      -1.637144e-07\n",
            "Division_W    -1.015188e-06\n",
            "NewLeague_N   -1.325154e-07\n",
            "dtype: float64\n",
            "Mean Squared Error:  172862.2200557664\n"
          ],
          "name": "stdout"
        }
      ]
    },
    {
      "cell_type": "code",
      "metadata": {
        "id": "r4Eb9RS_Y_fg",
        "colab": {
          "base_uri": "https://localhost:8080/"
        },
        "outputId": "15ba489f-42d0-4964-d30b-961eef443670"
      },
      "source": [
        "#ridgecv(cv=none)\n",
        "scaler = StandardScaler()\n",
        "ridgecv = RidgeCV(alphas=alphas)\n",
        "ridgecv.fit(scaler.fit_transform(X_train), y_train)\n",
        "ridgecv.alpha_   "
      ],
      "execution_count": null,
      "outputs": [
        {
          "output_type": "execute_result",
          "data": {
            "text/plain": [
              "70.54802310718645"
            ]
          },
          "metadata": {
            "tags": []
          },
          "execution_count": 28
        }
      ]
    },
    {
      "cell_type": "code",
      "metadata": {
        "colab": {
          "base_uri": "https://localhost:8080/"
        },
        "id": "M7qwlCcWFWaN",
        "outputId": "29ce0fba-caa4-4576-f2e4-1fe25e996ea5"
      },
      "source": [
        "#ridgecv(cv=5)\n",
        "scaler = StandardScaler()\n",
        "ridgecv = RidgeCV(alphas=alphas, cv=5)\n",
        "ridgecv.fit(scaler.fit_transform(X_train), y_train)\n",
        "ridgecv.alpha_ "
      ],
      "execution_count": null,
      "outputs": [
        {
          "output_type": "execute_result",
          "data": {
            "text/plain": [
              "93.26033468832199"
            ]
          },
          "metadata": {
            "tags": []
          },
          "execution_count": 29
        }
      ]
    },
    {
      "cell_type": "code",
      "metadata": {
        "colab": {
          "base_uri": "https://localhost:8080/"
        },
        "id": "Z0nUP2R0FmXD",
        "outputId": "76794eeb-c3a2-433e-b098-f13fc5a0392b"
      },
      "source": [
        "#ridgecv(cv=10)\n",
        "scaler = StandardScaler()\n",
        "ridgecv = RidgeCV(alphas=alphas, cv=10)\n",
        "ridgecv.fit(scaler.fit_transform(X_train), y_train)\n",
        "ridgecv.alpha_ "
      ],
      "execution_count": null,
      "outputs": [
        {
          "output_type": "execute_result",
          "data": {
            "text/plain": [
              "215.44346900318826"
            ]
          },
          "metadata": {
            "tags": []
          },
          "execution_count": 30
        }
      ]
    },
    {
      "cell_type": "code",
      "metadata": {
        "colab": {
          "base_uri": "https://localhost:8080/"
        },
        "id": "UgQNJxTRFwlr",
        "outputId": "5cb04040-13dc-4869-c3b7-f13c3d5d92cc"
      },
      "source": [
        "scaler = StandardScaler()\n",
        "opt_ridge = Ridge(alpha=ridgecv.alpha_) \n",
        "opt_ridge.fit(scaler.fit_transform(X_train), y_train) \n",
        "pred = opt_ridge.predict(scaler.fit_transform(X_test))\n",
        "mean_squared_error(y_test, pred)"
      ],
      "execution_count": null,
      "outputs": [
        {
          "output_type": "execute_result",
          "data": {
            "text/plain": [
              "99927.59735966552"
            ]
          },
          "metadata": {
            "tags": []
          },
          "execution_count": 31
        }
      ]
    },
    {
      "cell_type": "code",
      "metadata": {
        "colab": {
          "base_uri": "https://localhost:8080/"
        },
        "id": "BaZTF_CGF6er",
        "outputId": "00d131e9-dfdd-43d9-ca32-6f194a42e44c"
      },
      "source": [
        "opt_ridge.fit(X, y) \n",
        "pd.Series(opt_ridge.coef_, index=X.columns)   "
      ],
      "execution_count": null,
      "outputs": [
        {
          "output_type": "execute_result",
          "data": {
            "text/plain": [
              "AtBat          -2.131693\n",
              "Hits            7.609983\n",
              "HmRun           2.357328\n",
              "Runs           -1.956615\n",
              "RBI            -0.149830\n",
              "Walks           6.049360\n",
              "Years          -1.913856\n",
              "CAtBat         -0.181229\n",
              "CHits           0.103239\n",
              "CHmRun         -0.176791\n",
              "CRuns           1.565492\n",
              "CRBI            0.788984\n",
              "CWalks         -0.787067\n",
              "PutOuts         0.291609\n",
              "Assists         0.379783\n",
              "Errors         -2.890302\n",
              "League_N        8.754551\n",
              "Division_W    -26.039641\n",
              "NewLeague_N     5.471489\n",
              "dtype: float64"
            ]
          },
          "metadata": {
            "tags": []
          },
          "execution_count": 32
        }
      ]
    },
    {
      "cell_type": "code",
      "metadata": {
        "colab": {
          "base_uri": "https://localhost:8080/",
          "height": 299
        },
        "id": "JbOZzY23GA1D",
        "outputId": "1f4a5d64-e052-49a0-aeb8-757c9057fecc"
      },
      "source": [
        "#lasso regression\n",
        "lasso = Lasso(max_iter=100000)\n",
        "coefs = []\n",
        "scaler = StandardScaler()        \n",
        "for a in alphas: \n",
        "  lasso.set_params(alpha=a) \n",
        "  lasso.fit(scaler.fit_transform(X_train), y_train) \n",
        "  coefs.append(lasso.coef_)  \n",
        "ax = plt.gca() \n",
        "ax.plot(alphas*2, coefs) \n",
        "ax.set_xscale('log') \n",
        "plt.axis('tight') \n",
        "plt.xlabel('Lambda') \n",
        "plt.ylabel('Coefficients') \n",
        "plt.title('Lasso coefficients as a function of lambda(alpha)'); \n",
        "plt.show()"
      ],
      "execution_count": null,
      "outputs": [
        {
          "output_type": "display_data",
          "data": {
            "image/png": "[encoded data removed]",
            "text/plain": [
              "<Figure size 432x288 with 1 Axes>"
            ]
          },
          "metadata": {
            "tags": [],
            "needs_background": "light"
          }
        }
      ]
    },
    {
      "cell_type": "code",
      "metadata": {
        "colab": {
          "base_uri": "https://localhost:8080/"
        },
        "id": "hAno7judGfrT",
        "outputId": "cf5e3d22-9316-4307-ee2d-6e408d165bbb"
      },
      "source": [
        "#LassoCV - cv =10\n",
        "lassocv = LassoCV(alphas=None, cv=10, max_iter=100000)\n",
        "lassocv.fit(scaler.fit_transform(X_train), y_train)    \n",
        "lassocv.alpha_                                 "
      ],
      "execution_count": null,
      "outputs": [
        {
          "output_type": "execute_result",
          "data": {
            "text/plain": [
              "27.503283261878394"
            ]
          },
          "metadata": {
            "tags": []
          },
          "execution_count": 34
        }
      ]
    },
    {
      "cell_type": "code",
      "metadata": {
        "colab": {
          "base_uri": "https://localhost:8080/"
        },
        "id": "Y9KkpaJzGtgi",
        "outputId": "042641e6-cba7-4326-ff69-464d0a27da59"
      },
      "source": [
        "lasso.set_params(alpha=lassocv.alpha_) \n",
        "lasso.fit(scaler.fit_transform(X_train), y_train) \n",
        "mean_squared_error(y_test, lasso.predict(scaler.fit_transform(X_test)))"
      ],
      "execution_count": null,
      "outputs": [
        {
          "output_type": "execute_result",
          "data": {
            "text/plain": [
              "106183.71692611944"
            ]
          },
          "metadata": {
            "tags": []
          },
          "execution_count": 35
        }
      ]
    },
    {
      "cell_type": "code",
      "metadata": {
        "colab": {
          "base_uri": "https://localhost:8080/"
        },
        "id": "lCOYYTy0G7uq",
        "outputId": "29aff4be-4ed1-4ce4-e824-d4c0b32a9d76"
      },
      "source": [
        "pd.Series(lasso.coef_, index=X.columns) "
      ],
      "execution_count": null,
      "outputs": [
        {
          "output_type": "execute_result",
          "data": {
            "text/plain": [
              "AtBat            0.000000\n",
              "Hits            50.246197\n",
              "HmRun            0.000000\n",
              "Runs             0.000000\n",
              "RBI              0.000000\n",
              "Walks           66.794424\n",
              "Years            0.000000\n",
              "CAtBat           0.000000\n",
              "CHits            0.000000\n",
              "CHmRun          19.441152\n",
              "CRuns            0.000000\n",
              "CRBI           181.336557\n",
              "CWalks           0.000000\n",
              "PutOuts        110.307327\n",
              "Assists         -0.000000\n",
              "Errors          -0.000000\n",
              "League_N         0.000000\n",
              "Division_W     -44.530872\n",
              "NewLeague_N      0.000000\n",
              "dtype: float64"
            ]
          },
          "metadata": {
            "tags": []
          },
          "execution_count": 36
        }
      ]
    },
    {
      "cell_type": "code",
      "metadata": {
        "colab": {
          "base_uri": "https://localhost:8080/"
        },
        "id": "fPleFHhjG9jL",
        "outputId": "df98fe1b-bc3a-4a10-f7b5-1dc4f997d599"
      },
      "source": [
        "#Coefficient !=0\n",
        "pd.Series(lasso.coef_[lasso.coef_ !=0], index=X.columns[lasso.coef_ !=0])"
      ],
      "execution_count": null,
      "outputs": [
        {
          "output_type": "execute_result",
          "data": {
            "text/plain": [
              "Hits           50.246197\n",
              "Walks          66.794424\n",
              "CHmRun         19.441152\n",
              "CRBI          181.336557\n",
              "PutOuts       110.307327\n",
              "Division_W    -44.530872\n",
              "dtype: float64"
            ]
          },
          "metadata": {
            "tags": []
          },
          "execution_count": 37
        }
      ]
    },
    {
      "cell_type": "code",
      "metadata": {
        "id": "Vi_phynQHEKT"
      },
      "source": [
        "from sklearn.preprocessing import scale \n",
        "from sklearn.decomposition import PCA \n",
        "from sklearn.model_selection import KFold, cross_val_score \n",
        "from sklearn.linear_model import LinearRegression \n",
        "from sklearn.metrics import mean_squared_error "
      ],
      "execution_count": null,
      "outputs": []
    },
    {
      "cell_type": "code",
      "metadata": {
        "colab": {
          "base_uri": "https://localhost:8080/",
          "height": 220
        },
        "id": "bEAzS4WhHQt4",
        "outputId": "2fff7273-fb3b-45a5-c665-76964438b09b"
      },
      "source": [
        "#pca\n",
        "pca = PCA()\n",
        "X_pca_reduced = pca.fit_transform(scale(X))          \n",
        "print(pca.components_.shape)\n",
        "(19, 19)\n",
        "pd.DataFrame(pca.components_.T).loc[:4,:4]"
      ],
      "execution_count": null,
      "outputs": [
        {
          "output_type": "stream",
          "text": [
            "(19, 19)\n"
          ],
          "name": "stdout"
        },
        {
          "output_type": "execute_result",
          "data": {
            "text/html": [
              "<div>\n",
              "<style scoped>\n",
              "    .dataframe tbody tr th:only-of-type {\n",
              "        vertical-align: middle;\n",
              "    }\n",
              "\n",
              "    .dataframe tbody tr th {\n",
              "        vertical-align: top;\n",
              "    }\n",
              "\n",
              "    .dataframe thead th {\n",
              "        text-align: right;\n",
              "    }\n",
              "</style>\n",
              "<table border=\"1\" class=\"dataframe\">\n",
              "  <thead>\n",
              "    <tr style=\"text-align: right;\">\n",
              "      <th></th>\n",
              "      <th>0</th>\n",
              "      <th>1</th>\n",
              "      <th>2</th>\n",
              "      <th>3</th>\n",
              "      <th>4</th>\n",
              "    </tr>\n",
              "  </thead>\n",
              "  <tbody>\n",
              "    <tr>\n",
              "      <th>0</th>\n",
              "      <td>0.198290</td>\n",
              "      <td>-0.383784</td>\n",
              "      <td>0.088626</td>\n",
              "      <td>0.031967</td>\n",
              "      <td>0.028117</td>\n",
              "    </tr>\n",
              "    <tr>\n",
              "      <th>1</th>\n",
              "      <td>0.195861</td>\n",
              "      <td>-0.377271</td>\n",
              "      <td>0.074032</td>\n",
              "      <td>0.017982</td>\n",
              "      <td>-0.004652</td>\n",
              "    </tr>\n",
              "    <tr>\n",
              "      <th>2</th>\n",
              "      <td>0.204369</td>\n",
              "      <td>-0.237136</td>\n",
              "      <td>-0.216186</td>\n",
              "      <td>-0.235831</td>\n",
              "      <td>0.077660</td>\n",
              "    </tr>\n",
              "    <tr>\n",
              "      <th>3</th>\n",
              "      <td>0.198337</td>\n",
              "      <td>-0.377721</td>\n",
              "      <td>-0.017166</td>\n",
              "      <td>-0.049942</td>\n",
              "      <td>-0.038536</td>\n",
              "    </tr>\n",
              "    <tr>\n",
              "      <th>4</th>\n",
              "      <td>0.235174</td>\n",
              "      <td>-0.314531</td>\n",
              "      <td>-0.073085</td>\n",
              "      <td>-0.138985</td>\n",
              "      <td>0.024299</td>\n",
              "    </tr>\n",
              "  </tbody>\n",
              "</table>\n",
              "</div>"
            ],
            "text/plain": [
              "          0         1         2         3         4\n",
              "0  0.198290 -0.383784  0.088626  0.031967  0.028117\n",
              "1  0.195861 -0.377271  0.074032  0.017982 -0.004652\n",
              "2  0.204369 -0.237136 -0.216186 -0.235831  0.077660\n",
              "3  0.198337 -0.377721 -0.017166 -0.049942 -0.038536\n",
              "4  0.235174 -0.314531 -0.073085 -0.138985  0.024299"
            ]
          },
          "metadata": {
            "tags": []
          },
          "execution_count": 39
        }
      ]
    },
    {
      "cell_type": "code",
      "metadata": {
        "colab": {
          "base_uri": "https://localhost:8080/"
        },
        "id": "iRkOa8_jHdNT",
        "outputId": "b9d3b078-1591-489d-9ede-6262c2c3a539"
      },
      "source": [
        " np.cumsum(np.round(pca.explained_variance_ratio_, decimals=4)*100)"
      ],
      "execution_count": null,
      "outputs": [
        {
          "output_type": "execute_result",
          "data": {
            "text/plain": [
              "array([38.31, 60.15, 70.84, 79.03, 84.29, 88.63, 92.26, 94.96, 96.28,\n",
              "       97.25, 97.97, 98.64, 99.14, 99.46, 99.73, 99.88, 99.95, 99.98,\n",
              "       99.99])"
            ]
          },
          "metadata": {
            "tags": []
          },
          "execution_count": 40
        }
      ]
    },
    {
      "cell_type": "code",
      "metadata": {
        "id": "fIebMVroHlHT",
        "colab": {
          "base_uri": "https://localhost:8080/",
          "height": 312
        },
        "outputId": "2942ff23-e30f-4180-fa06-21a5a9683b8d"
      },
      "source": [
        "pca_t = PCA() \n",
        "X_train_reduced_pca = pca_t.fit_transform(scale(X_train)) \n",
        "n = len(X_train_reduced_pca) \n",
        "kfold10 = KFold(n_splits=10)\n",
        "lm_regr = LinearRegression()\n",
        "mse = []                                                               \n",
        "tr_score = -1*cross_val_score(lm_regr, np.ones((n,1)),y_train, cv=kfold10, scoring='neg_mean_squared_error').mean()    \n",
        "mse.append(tr_score) \n",
        "for i in np.arange(1, 20): \n",
        "  tr_score = -1*cross_val_score(lm_regr, X_train_reduced_pca[:,:i], y_train, cv=kfold10, scoring='neg_mean_squared_error').mean()\n",
        "  mse.append(tr_score) \n",
        "\n",
        "plt.plot(mse, '-v') \n",
        "plt.xlabel('Number of principal components in regression') \n",
        "plt.ylabel('MSE') \n",
        "plt.title('Player Salary') \n",
        "plt.xlim(xmin=-1); \n",
        "plt.plot()\n"
      ],
      "execution_count": null,
      "outputs": [
        {
          "output_type": "execute_result",
          "data": {
            "text/plain": [
              "[]"
            ]
          },
          "metadata": {
            "tags": []
          },
          "execution_count": 42
        },
        {
          "output_type": "display_data",
          "data": {
            "image/png": "[encoded data removed]",
            "text/plain": [
              "<Figure size 432x288 with 1 Axes>"
            ]
          },
          "metadata": {
            "tags": [],
            "needs_background": "light"
          }
        }
      ]
    },
    {
      "cell_type": "code",
      "metadata": {
        "colab": {
          "base_uri": "https://localhost:8080/"
        },
        "id": "QNgd9vfZ6VIm",
        "outputId": "6f6f2d59-99bf-4105-999c-8be390be4cb9"
      },
      "source": [
        "#mse\n",
        "mse_each_comp=pd.Series(np.array(mse).flatten(), index = np.arange(1,21)) \n",
        "mse_each_comp"
      ],
      "execution_count": null,
      "outputs": [
        {
          "output_type": "execute_result",
          "data": {
            "text/plain": [
              "1     235406.619100\n",
              "2     144310.329851\n",
              "3     141961.097915\n",
              "4     142493.549431\n",
              "5     143287.577720\n",
              "6     134376.466736\n",
              "7     129143.405002\n",
              "8     131571.376294\n",
              "9     135335.186049\n",
              "10    138904.079492\n",
              "11    149674.333623\n",
              "12    150179.569822\n",
              "13    152739.781510\n",
              "14    154371.214873\n",
              "15    164099.596798\n",
              "16    154067.909113\n",
              "17    147843.866699\n",
              "18    154154.156968\n",
              "19    148268.507015\n",
              "20    150176.362589\n",
              "dtype: float64"
            ]
          },
          "metadata": {
            "tags": []
          },
          "execution_count": 43
        }
      ]
    },
    {
      "cell_type": "code",
      "metadata": {
        "colab": {
          "base_uri": "https://localhost:8080/"
        },
        "id": "7tqfqkg86g9a",
        "outputId": "0684337e-0649-4ef1-9172-76e6c7bd5f83"
      },
      "source": [
        "#minimum MSE\n",
        "np.amin(mse_each_comp)  "
      ],
      "execution_count": null,
      "outputs": [
        {
          "output_type": "execute_result",
          "data": {
            "text/plain": [
              "129143.40500200147"
            ]
          },
          "metadata": {
            "tags": []
          },
          "execution_count": 44
        }
      ]
    },
    {
      "cell_type": "code",
      "metadata": {
        "colab": {
          "base_uri": "https://localhost:8080/"
        },
        "id": "w8u8mTcB6pwT",
        "outputId": "91e2b9ea-09e1-46d8-8318-91c5c751a6f1"
      },
      "source": [
        "#regression model with reduced components\n",
        "X_test_reduced_pca = pca_t.transform(scale(X_test))[:,:7] \n",
        "regr = LinearRegression()\n",
        "regr.fit(X_train_reduced_pca[:,:7], y_train) \n",
        "pred = regr.predict(X_test_reduced_pca) \n",
        "mean_squared_error(y_test, pred) "
      ],
      "execution_count": null,
      "outputs": [
        {
          "output_type": "execute_result",
          "data": {
            "text/plain": [
              "111994.42273636989"
            ]
          },
          "metadata": {
            "tags": []
          },
          "execution_count": 45
        }
      ]
    },
    {
      "cell_type": "code",
      "metadata": {
        "colab": {
          "base_uri": "https://localhost:8080/"
        },
        "id": "1B9GuVsS65V8",
        "outputId": "0177e3ca-ac34-4a7b-8ee5-318fc384531e"
      },
      "source": [
        "regr.coef_ "
      ],
      "execution_count": null,
      "outputs": [
        {
          "output_type": "execute_result",
          "data": {
            "text/plain": [
              "array([111.65854316, -31.45724128,  29.39674508, -27.26877462,\n",
              "       -94.69732568,  96.48700437, -49.67311542])"
            ]
          },
          "metadata": {
            "tags": []
          },
          "execution_count": 46
        }
      ]
    },
    {
      "cell_type": "code",
      "metadata": {
        "id": "WFo5TJWu67gF"
      },
      "source": [
        ""
      ],
      "execution_count": null,
      "outputs": []
    }
  ]
}